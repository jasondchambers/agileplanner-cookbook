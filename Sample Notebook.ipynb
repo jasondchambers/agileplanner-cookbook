{
 "cells": [
  {
   "cell_type": "markdown",
   "id": "e7d4bc17-120b-4337-86a6-8fdf9a07e86b",
   "metadata": {},
   "source": [
    "# Agile Planner Playbook\n",
    "\n",
    "In this playbook, we take a tour of the features of [Agile Planner](https://github.com/jasondchambers/agileplanner) \n",
    "\n",
    "First, we will walk through the steps to calculate capacity for sample teams for a sample time period.\n",
    "Then, we will schedule some sample epics for the teams.\n",
    "Finally, we will create a Gantt chart of the schedule."
   ]
  },
  {
   "cell_type": "code",
   "execution_count": 1,
   "id": "6d839751-7e95-4c2e-8ecb-025a053d37b9",
   "metadata": {},
   "outputs": [],
   "source": [
    "from datetime import date\n",
    "import agileplanner as ap"
   ]
  },
  {
   "cell_type": "markdown",
   "id": "318f6432-83d0-4ffc-8164-8d92ac24d764",
   "metadata": {},
   "source": [
    "## Specify Holidays\n",
    "In this example, there are no holidays - so we just return False when called."
   ]
  },
  {
   "cell_type": "code",
   "execution_count": 2,
   "id": "3813c756-3eef-4402-8aff-df68de5b2cc6",
   "metadata": {},
   "outputs": [],
   "source": [
    "class HolidayScheduleForTesting(ap.HolidaySchedulePort):\n",
    "    \"\"\"HolidaySchedulePort implementation for testing.\"\"\"\n",
    "    # overriding abstract method\n",
    "    def falls_on_holiday(self,some_date: date,location: str) -> bool:\n",
    "        return False\n",
    "\n",
    "holiday_schedule = HolidayScheduleForTesting()"
   ]
  },
  {
   "cell_type": "markdown",
   "id": "4c3afecd-3c41-401a-acaf-fd8ada224c0f",
   "metadata": {},
   "source": [
    "## Specify the time period"
   ]
  },
  {
   "cell_type": "code",
   "execution_count": 3,
   "id": "3ab9c30a-642e-47ed-8355-f782266b91c7",
   "metadata": {},
   "outputs": [],
   "source": [
    "q2 = ap.TimePeriod(\n",
    "    name='Q2',\n",
    "    start_date=date(2023,10,25),\n",
    "    end_date=date(2024,1,23)\n",
    ")"
   ]
  },
  {
   "cell_type": "markdown",
   "id": "2d9d4a24-a4b3-46b7-8ca1-7657c8c4e982",
   "metadata": {},
   "source": [
    "## Load the sample features"
   ]
  },
  {
   "cell_type": "code",
   "execution_count": 4,
   "id": "204b19eb-d712-427f-867b-9e133eb2abc7",
   "metadata": {},
   "outputs": [
    {
     "data": {
      "text/plain": [
       "<agileplanner.src.feature.Features at 0x7efffc986aa0>"
      ]
     },
     "execution_count": 4,
     "metadata": {},
     "output_type": "execute_result"
    }
   ],
   "source": [
    "features = ap.Features('features.yaml')\n",
    "features.load_from_yaml_file()"
   ]
  },
  {
   "cell_type": "markdown",
   "id": "5b556a29-c6af-4cc5-bd00-388c123c344f",
   "metadata": {},
   "source": [
    "## Load the sample teams"
   ]
  },
  {
   "cell_type": "code",
   "execution_count": 5,
   "id": "a9b6ac4e-b140-4da4-8726-07c9ca999b1c",
   "metadata": {},
   "outputs": [],
   "source": [
    "teams = [\n",
    "    ap.Team('GSD Team', 'gsd_team.yaml').load_from_yaml_file(),\n",
    "    ap.Team('Skynet Team', 'skynet_team.yaml').load_from_yaml_file(),\n",
    "]"
   ]
  },
  {
   "cell_type": "markdown",
   "id": "85e46101-bcfe-48d5-a05e-caad27931300",
   "metadata": {},
   "source": [
    "## Calculate capacity for individual teams\n",
    "\n",
    "This is how we generate an individual CSV capacity sheet for the teams for the specified timeperiod. The CSV can be imported in eXcel or your favourite spreadsheet tool. The generated files will be named <team name>_<time period name>.csv and will be written to the current directory."
   ]
  },
  {
   "cell_type": "code",
   "execution_count": 6,
   "id": "cdec1bf8-4d75-4220-997c-8b5bd3c701e4",
   "metadata": {},
   "outputs": [],
   "source": [
    "for team in teams:\n",
    "    ap.generate_capacity_sheet_for_team(team, q2, holiday_schedule)"
   ]
  },
  {
   "cell_type": "markdown",
   "id": "0ec69550-9af1-4718-b7a7-4cf666b79c10",
   "metadata": {},
   "source": [
    "## Calculate capacity for the entire org\n",
    "Now let's generate capacity sheet for the entire org. This time, we will store the returned object - we will use that for scheduling epics later."
   ]
  },
  {
   "cell_type": "code",
   "execution_count": 7,
   "id": "cbab14f3-61f3-4419-9efe-90e62234311a",
   "metadata": {},
   "outputs": [],
   "source": [
    "org_capacity_q2 = ap.generate_capacity_sheet_for_org(\"Whole Org\", teams, q2, holiday_schedule)   "
   ]
  },
  {
   "cell_type": "markdown",
   "id": "e4b4d4e7-8119-44ca-9fd4-5f276b2e1ca0",
   "metadata": {},
   "source": [
    "## Explore the capacity as a Pandas DataFrame\n",
    "Before we perform some scheduling, we can create a Pandas DataFrame and have some fun with the capacity sheet."
   ]
  },
  {
   "cell_type": "code",
   "execution_count": 8,
   "id": "0690da9b-c516-479d-a336-142bbe3aeb38",
   "metadata": {},
   "outputs": [],
   "source": [
    "df = org_capacity_q2.get_df()"
   ]
  },
  {
   "cell_type": "code",
   "execution_count": 9,
   "id": "5f438e7d-32e6-4b9a-ad9c-2e37391b8a68",
   "metadata": {},
   "outputs": [
    {
     "data": {
      "text/html": [
       "<div>\n",
       "<style scoped>\n",
       "    .dataframe tbody tr th:only-of-type {\n",
       "        vertical-align: middle;\n",
       "    }\n",
       "\n",
       "    .dataframe tbody tr th {\n",
       "        vertical-align: top;\n",
       "    }\n",
       "\n",
       "    .dataframe thead th {\n",
       "        text-align: right;\n",
       "    }\n",
       "</style>\n",
       "<table border=\"1\" class=\"dataframe\">\n",
       "  <thead>\n",
       "    <tr style=\"text-align: right;\">\n",
       "      <th></th>\n",
       "      <th>Team</th>\n",
       "      <th>Person</th>\n",
       "      <th>Location</th>\n",
       "      <th>Start Date</th>\n",
       "      <th>End Date</th>\n",
       "      <th>Front End</th>\n",
       "      <th>Back End</th>\n",
       "      <th>QE</th>\n",
       "      <th>Documentation</th>\n",
       "      <th>DevOps</th>\n",
       "      <th>...</th>\n",
       "      <th>2024-01-15</th>\n",
       "      <th>2024-01-16</th>\n",
       "      <th>2024-01-17</th>\n",
       "      <th>2024-01-18</th>\n",
       "      <th>2024-01-19</th>\n",
       "      <th>2024-01-20</th>\n",
       "      <th>2024-01-21</th>\n",
       "      <th>2024-01-22</th>\n",
       "      <th>2024-01-23</th>\n",
       "      <th>Total</th>\n",
       "    </tr>\n",
       "  </thead>\n",
       "  <tbody>\n",
       "    <tr>\n",
       "      <th>0</th>\n",
       "      <td>Whole Org</td>\n",
       "      <td>Brian Hofmeister</td>\n",
       "      <td>US</td>\n",
       "      <td>2023-01-01</td>\n",
       "      <td>2030-12-31</td>\n",
       "      <td>F</td>\n",
       "      <td>F</td>\n",
       "      <td>F</td>\n",
       "      <td>F</td>\n",
       "      <td>F</td>\n",
       "      <td>...</td>\n",
       "      <td>0.00</td>\n",
       "      <td>0.00</td>\n",
       "      <td>0.00</td>\n",
       "      <td>0.00</td>\n",
       "      <td>0.00</td>\n",
       "      <td>0</td>\n",
       "      <td>0</td>\n",
       "      <td>0.00</td>\n",
       "      <td>0.00</td>\n",
       "      <td>0.00</td>\n",
       "    </tr>\n",
       "    <tr>\n",
       "      <th>1</th>\n",
       "      <td>Whole Org</td>\n",
       "      <td>Mary the Manager</td>\n",
       "      <td>US</td>\n",
       "      <td>2023-01-01</td>\n",
       "      <td>2030-12-31</td>\n",
       "      <td>F</td>\n",
       "      <td>F</td>\n",
       "      <td>F</td>\n",
       "      <td>F</td>\n",
       "      <td>F</td>\n",
       "      <td>...</td>\n",
       "      <td>0.00</td>\n",
       "      <td>0.00</td>\n",
       "      <td>0.00</td>\n",
       "      <td>0.00</td>\n",
       "      <td>0.00</td>\n",
       "      <td>0</td>\n",
       "      <td>0</td>\n",
       "      <td>0.00</td>\n",
       "      <td>0.00</td>\n",
       "      <td>0.00</td>\n",
       "    </tr>\n",
       "    <tr>\n",
       "      <th>2</th>\n",
       "      <td>Whole Org</td>\n",
       "      <td>Scooby Doo</td>\n",
       "      <td>US</td>\n",
       "      <td>2023-01-01</td>\n",
       "      <td>2030-12-31</td>\n",
       "      <td>F</td>\n",
       "      <td>T</td>\n",
       "      <td>F</td>\n",
       "      <td>F</td>\n",
       "      <td>F</td>\n",
       "      <td>...</td>\n",
       "      <td>0.25</td>\n",
       "      <td>0.25</td>\n",
       "      <td>0.25</td>\n",
       "      <td>0.25</td>\n",
       "      <td>0.25</td>\n",
       "      <td>0</td>\n",
       "      <td>0</td>\n",
       "      <td>0.25</td>\n",
       "      <td>0.25</td>\n",
       "      <td>16.25</td>\n",
       "    </tr>\n",
       "    <tr>\n",
       "      <th>3</th>\n",
       "      <td>Whole Org</td>\n",
       "      <td>Ziggy Stardust</td>\n",
       "      <td>US</td>\n",
       "      <td>2023-01-01</td>\n",
       "      <td>2030-12-31</td>\n",
       "      <td>F</td>\n",
       "      <td>T</td>\n",
       "      <td>F</td>\n",
       "      <td>F</td>\n",
       "      <td>F</td>\n",
       "      <td>...</td>\n",
       "      <td>0.70</td>\n",
       "      <td>0.70</td>\n",
       "      <td>0.70</td>\n",
       "      <td>0.70</td>\n",
       "      <td>0.70</td>\n",
       "      <td>0</td>\n",
       "      <td>0</td>\n",
       "      <td>0.70</td>\n",
       "      <td>0.70</td>\n",
       "      <td>45.50</td>\n",
       "    </tr>\n",
       "    <tr>\n",
       "      <th>4</th>\n",
       "      <td>Whole Org</td>\n",
       "      <td>Frankie Boyle</td>\n",
       "      <td>US</td>\n",
       "      <td>2023-01-01</td>\n",
       "      <td>2030-12-31</td>\n",
       "      <td>F</td>\n",
       "      <td>T</td>\n",
       "      <td>F</td>\n",
       "      <td>F</td>\n",
       "      <td>F</td>\n",
       "      <td>...</td>\n",
       "      <td>0.70</td>\n",
       "      <td>0.70</td>\n",
       "      <td>0.70</td>\n",
       "      <td>0.70</td>\n",
       "      <td>0.70</td>\n",
       "      <td>0</td>\n",
       "      <td>0</td>\n",
       "      <td>0.70</td>\n",
       "      <td>0.70</td>\n",
       "      <td>45.50</td>\n",
       "    </tr>\n",
       "    <tr>\n",
       "      <th>5</th>\n",
       "      <td>Whole Org</td>\n",
       "      <td>Eastender Ricky</td>\n",
       "      <td>Canada</td>\n",
       "      <td>2023-01-01</td>\n",
       "      <td>2030-12-31</td>\n",
       "      <td>F</td>\n",
       "      <td>T</td>\n",
       "      <td>F</td>\n",
       "      <td>F</td>\n",
       "      <td>F</td>\n",
       "      <td>...</td>\n",
       "      <td>0.65</td>\n",
       "      <td>0.65</td>\n",
       "      <td>0.65</td>\n",
       "      <td>0.65</td>\n",
       "      <td>0.65</td>\n",
       "      <td>0</td>\n",
       "      <td>0</td>\n",
       "      <td>0.65</td>\n",
       "      <td>0.65</td>\n",
       "      <td>42.25</td>\n",
       "    </tr>\n",
       "    <tr>\n",
       "      <th>6</th>\n",
       "      <td>Whole Org</td>\n",
       "      <td>Indy Jones</td>\n",
       "      <td>Bangalore</td>\n",
       "      <td>2023-01-01</td>\n",
       "      <td>2030-12-31</td>\n",
       "      <td>F</td>\n",
       "      <td>T</td>\n",
       "      <td>F</td>\n",
       "      <td>F</td>\n",
       "      <td>F</td>\n",
       "      <td>...</td>\n",
       "      <td>0.60</td>\n",
       "      <td>0.60</td>\n",
       "      <td>0.60</td>\n",
       "      <td>0.60</td>\n",
       "      <td>0.60</td>\n",
       "      <td>0</td>\n",
       "      <td>0</td>\n",
       "      <td>0.60</td>\n",
       "      <td>0.60</td>\n",
       "      <td>39.00</td>\n",
       "    </tr>\n",
       "    <tr>\n",
       "      <th>7</th>\n",
       "      <td>Whole Org</td>\n",
       "      <td>Terry Berry</td>\n",
       "      <td>Bangalore</td>\n",
       "      <td>2023-01-01</td>\n",
       "      <td>2030-12-31</td>\n",
       "      <td>T</td>\n",
       "      <td>F</td>\n",
       "      <td>F</td>\n",
       "      <td>F</td>\n",
       "      <td>F</td>\n",
       "      <td>...</td>\n",
       "      <td>0.60</td>\n",
       "      <td>0.60</td>\n",
       "      <td>0.60</td>\n",
       "      <td>0.60</td>\n",
       "      <td>0.60</td>\n",
       "      <td>0</td>\n",
       "      <td>0</td>\n",
       "      <td>0.60</td>\n",
       "      <td>0.60</td>\n",
       "      <td>30.60</td>\n",
       "    </tr>\n",
       "    <tr>\n",
       "      <th>8</th>\n",
       "      <td>Whole Org</td>\n",
       "      <td>Hunter Pointer</td>\n",
       "      <td>Bangalore</td>\n",
       "      <td>2023-01-01</td>\n",
       "      <td>2030-12-31</td>\n",
       "      <td>T</td>\n",
       "      <td>F</td>\n",
       "      <td>F</td>\n",
       "      <td>F</td>\n",
       "      <td>F</td>\n",
       "      <td>...</td>\n",
       "      <td>0.70</td>\n",
       "      <td>0.70</td>\n",
       "      <td>0.70</td>\n",
       "      <td>0.70</td>\n",
       "      <td>0.70</td>\n",
       "      <td>0</td>\n",
       "      <td>0</td>\n",
       "      <td>0.70</td>\n",
       "      <td>0.70</td>\n",
       "      <td>39.20</td>\n",
       "    </tr>\n",
       "    <tr>\n",
       "      <th>9</th>\n",
       "      <td>Whole Org</td>\n",
       "      <td>Iris in a Crisis</td>\n",
       "      <td>Bangalore</td>\n",
       "      <td>2023-01-01</td>\n",
       "      <td>2030-12-31</td>\n",
       "      <td>T</td>\n",
       "      <td>F</td>\n",
       "      <td>F</td>\n",
       "      <td>F</td>\n",
       "      <td>F</td>\n",
       "      <td>...</td>\n",
       "      <td>0.70</td>\n",
       "      <td>0.70</td>\n",
       "      <td>0.70</td>\n",
       "      <td>0.70</td>\n",
       "      <td>0.70</td>\n",
       "      <td>0</td>\n",
       "      <td>0</td>\n",
       "      <td>0.70</td>\n",
       "      <td>0.70</td>\n",
       "      <td>39.20</td>\n",
       "    </tr>\n",
       "    <tr>\n",
       "      <th>10</th>\n",
       "      <td>Whole Org</td>\n",
       "      <td>Total</td>\n",
       "      <td>-</td>\n",
       "      <td>-</td>\n",
       "      <td>-</td>\n",
       "      <td>-</td>\n",
       "      <td>-</td>\n",
       "      <td>-</td>\n",
       "      <td>-</td>\n",
       "      <td>-</td>\n",
       "      <td>...</td>\n",
       "      <td>4.90</td>\n",
       "      <td>4.90</td>\n",
       "      <td>4.90</td>\n",
       "      <td>4.90</td>\n",
       "      <td>4.90</td>\n",
       "      <td>0</td>\n",
       "      <td>0</td>\n",
       "      <td>4.90</td>\n",
       "      <td>4.90</td>\n",
       "      <td>297.50</td>\n",
       "    </tr>\n",
       "  </tbody>\n",
       "</table>\n",
       "<p>11 rows × 103 columns</p>\n",
       "</div>"
      ],
      "text/plain": [
       "         Team            Person   Location  Start Date    End Date Front End  \\\n",
       "0   Whole Org  Brian Hofmeister         US  2023-01-01  2030-12-31         F   \n",
       "1   Whole Org  Mary the Manager         US  2023-01-01  2030-12-31         F   \n",
       "2   Whole Org        Scooby Doo         US  2023-01-01  2030-12-31         F   \n",
       "3   Whole Org    Ziggy Stardust         US  2023-01-01  2030-12-31         F   \n",
       "4   Whole Org     Frankie Boyle         US  2023-01-01  2030-12-31         F   \n",
       "5   Whole Org   Eastender Ricky     Canada  2023-01-01  2030-12-31         F   \n",
       "6   Whole Org        Indy Jones  Bangalore  2023-01-01  2030-12-31         F   \n",
       "7   Whole Org       Terry Berry  Bangalore  2023-01-01  2030-12-31         T   \n",
       "8   Whole Org    Hunter Pointer  Bangalore  2023-01-01  2030-12-31         T   \n",
       "9   Whole Org  Iris in a Crisis  Bangalore  2023-01-01  2030-12-31         T   \n",
       "10  Whole Org             Total          -           -           -         -   \n",
       "\n",
       "   Back End QE Documentation DevOps  ... 2024-01-15  2024-01-16  2024-01-17  \\\n",
       "0         F  F             F      F  ...       0.00        0.00        0.00   \n",
       "1         F  F             F      F  ...       0.00        0.00        0.00   \n",
       "2         T  F             F      F  ...       0.25        0.25        0.25   \n",
       "3         T  F             F      F  ...       0.70        0.70        0.70   \n",
       "4         T  F             F      F  ...       0.70        0.70        0.70   \n",
       "5         T  F             F      F  ...       0.65        0.65        0.65   \n",
       "6         T  F             F      F  ...       0.60        0.60        0.60   \n",
       "7         F  F             F      F  ...       0.60        0.60        0.60   \n",
       "8         F  F             F      F  ...       0.70        0.70        0.70   \n",
       "9         F  F             F      F  ...       0.70        0.70        0.70   \n",
       "10        -  -             -      -  ...       4.90        4.90        4.90   \n",
       "\n",
       "    2024-01-18  2024-01-19  2024-01-20  2024-01-21  2024-01-22  2024-01-23  \\\n",
       "0         0.00        0.00           0           0        0.00        0.00   \n",
       "1         0.00        0.00           0           0        0.00        0.00   \n",
       "2         0.25        0.25           0           0        0.25        0.25   \n",
       "3         0.70        0.70           0           0        0.70        0.70   \n",
       "4         0.70        0.70           0           0        0.70        0.70   \n",
       "5         0.65        0.65           0           0        0.65        0.65   \n",
       "6         0.60        0.60           0           0        0.60        0.60   \n",
       "7         0.60        0.60           0           0        0.60        0.60   \n",
       "8         0.70        0.70           0           0        0.70        0.70   \n",
       "9         0.70        0.70           0           0        0.70        0.70   \n",
       "10        4.90        4.90           0           0        4.90        4.90   \n",
       "\n",
       "     Total  \n",
       "0     0.00  \n",
       "1     0.00  \n",
       "2    16.25  \n",
       "3    45.50  \n",
       "4    45.50  \n",
       "5    42.25  \n",
       "6    39.00  \n",
       "7    30.60  \n",
       "8    39.20  \n",
       "9    39.20  \n",
       "10  297.50  \n",
       "\n",
       "[11 rows x 103 columns]"
      ]
     },
     "execution_count": 9,
     "metadata": {},
     "output_type": "execute_result"
    }
   ],
   "source": [
    "df"
   ]
  },
  {
   "cell_type": "markdown",
   "id": "4d33e5db-3a78-48a7-8988-44a314bf20ff",
   "metadata": {},
   "source": [
    "Let's see how much potential capacity we have for Front End epics"
   ]
  },
  {
   "cell_type": "code",
   "execution_count": 10,
   "id": "4f644e42-b7ed-4d5d-af44-50964250f7c1",
   "metadata": {},
   "outputs": [
    {
     "data": {
      "text/plain": [
       "109.00000000000006"
      ]
     },
     "execution_count": 10,
     "metadata": {},
     "output_type": "execute_result"
    }
   ],
   "source": [
    "df.loc[df['Front End'] == 'T']['Total'].sum()"
   ]
  },
  {
   "cell_type": "markdown",
   "id": "0c05cddf-c6bf-4ac5-8c05-a9fe1716b88e",
   "metadata": {},
   "source": [
    "Let's verify that. First we filter just the people on the team who are skilled in Front End work"
   ]
  },
  {
   "cell_type": "code",
   "execution_count": 11,
   "id": "1d87b89f-10b7-4f0c-855f-beb9fb42fe5b",
   "metadata": {},
   "outputs": [],
   "source": [
    "front_end_only_df = df.loc[df['Front End'] == 'T']"
   ]
  },
  {
   "cell_type": "code",
   "execution_count": 12,
   "id": "74d19e80-62db-42a6-879b-7c79700213ce",
   "metadata": {},
   "outputs": [
    {
     "data": {
      "text/html": [
       "<div>\n",
       "<style scoped>\n",
       "    .dataframe tbody tr th:only-of-type {\n",
       "        vertical-align: middle;\n",
       "    }\n",
       "\n",
       "    .dataframe tbody tr th {\n",
       "        vertical-align: top;\n",
       "    }\n",
       "\n",
       "    .dataframe thead th {\n",
       "        text-align: right;\n",
       "    }\n",
       "</style>\n",
       "<table border=\"1\" class=\"dataframe\">\n",
       "  <thead>\n",
       "    <tr style=\"text-align: right;\">\n",
       "      <th></th>\n",
       "      <th>Team</th>\n",
       "      <th>Person</th>\n",
       "      <th>Location</th>\n",
       "      <th>Start Date</th>\n",
       "      <th>End Date</th>\n",
       "      <th>Front End</th>\n",
       "      <th>Back End</th>\n",
       "      <th>QE</th>\n",
       "      <th>Documentation</th>\n",
       "      <th>DevOps</th>\n",
       "      <th>...</th>\n",
       "      <th>2024-01-15</th>\n",
       "      <th>2024-01-16</th>\n",
       "      <th>2024-01-17</th>\n",
       "      <th>2024-01-18</th>\n",
       "      <th>2024-01-19</th>\n",
       "      <th>2024-01-20</th>\n",
       "      <th>2024-01-21</th>\n",
       "      <th>2024-01-22</th>\n",
       "      <th>2024-01-23</th>\n",
       "      <th>Total</th>\n",
       "    </tr>\n",
       "  </thead>\n",
       "  <tbody>\n",
       "    <tr>\n",
       "      <th>7</th>\n",
       "      <td>Whole Org</td>\n",
       "      <td>Terry Berry</td>\n",
       "      <td>Bangalore</td>\n",
       "      <td>2023-01-01</td>\n",
       "      <td>2030-12-31</td>\n",
       "      <td>T</td>\n",
       "      <td>F</td>\n",
       "      <td>F</td>\n",
       "      <td>F</td>\n",
       "      <td>F</td>\n",
       "      <td>...</td>\n",
       "      <td>0.6</td>\n",
       "      <td>0.6</td>\n",
       "      <td>0.6</td>\n",
       "      <td>0.6</td>\n",
       "      <td>0.6</td>\n",
       "      <td>0</td>\n",
       "      <td>0</td>\n",
       "      <td>0.6</td>\n",
       "      <td>0.6</td>\n",
       "      <td>30.6</td>\n",
       "    </tr>\n",
       "    <tr>\n",
       "      <th>8</th>\n",
       "      <td>Whole Org</td>\n",
       "      <td>Hunter Pointer</td>\n",
       "      <td>Bangalore</td>\n",
       "      <td>2023-01-01</td>\n",
       "      <td>2030-12-31</td>\n",
       "      <td>T</td>\n",
       "      <td>F</td>\n",
       "      <td>F</td>\n",
       "      <td>F</td>\n",
       "      <td>F</td>\n",
       "      <td>...</td>\n",
       "      <td>0.7</td>\n",
       "      <td>0.7</td>\n",
       "      <td>0.7</td>\n",
       "      <td>0.7</td>\n",
       "      <td>0.7</td>\n",
       "      <td>0</td>\n",
       "      <td>0</td>\n",
       "      <td>0.7</td>\n",
       "      <td>0.7</td>\n",
       "      <td>39.2</td>\n",
       "    </tr>\n",
       "    <tr>\n",
       "      <th>9</th>\n",
       "      <td>Whole Org</td>\n",
       "      <td>Iris in a Crisis</td>\n",
       "      <td>Bangalore</td>\n",
       "      <td>2023-01-01</td>\n",
       "      <td>2030-12-31</td>\n",
       "      <td>T</td>\n",
       "      <td>F</td>\n",
       "      <td>F</td>\n",
       "      <td>F</td>\n",
       "      <td>F</td>\n",
       "      <td>...</td>\n",
       "      <td>0.7</td>\n",
       "      <td>0.7</td>\n",
       "      <td>0.7</td>\n",
       "      <td>0.7</td>\n",
       "      <td>0.7</td>\n",
       "      <td>0</td>\n",
       "      <td>0</td>\n",
       "      <td>0.7</td>\n",
       "      <td>0.7</td>\n",
       "      <td>39.2</td>\n",
       "    </tr>\n",
       "  </tbody>\n",
       "</table>\n",
       "<p>3 rows × 103 columns</p>\n",
       "</div>"
      ],
      "text/plain": [
       "        Team            Person   Location  Start Date    End Date Front End  \\\n",
       "7  Whole Org       Terry Berry  Bangalore  2023-01-01  2030-12-31         T   \n",
       "8  Whole Org    Hunter Pointer  Bangalore  2023-01-01  2030-12-31         T   \n",
       "9  Whole Org  Iris in a Crisis  Bangalore  2023-01-01  2030-12-31         T   \n",
       "\n",
       "  Back End QE Documentation DevOps  ... 2024-01-15  2024-01-16  2024-01-17  \\\n",
       "7        F  F             F      F  ...        0.6         0.6         0.6   \n",
       "8        F  F             F      F  ...        0.7         0.7         0.7   \n",
       "9        F  F             F      F  ...        0.7         0.7         0.7   \n",
       "\n",
       "   2024-01-18  2024-01-19  2024-01-20  2024-01-21  2024-01-22  2024-01-23  \\\n",
       "7         0.6         0.6           0           0         0.6         0.6   \n",
       "8         0.7         0.7           0           0         0.7         0.7   \n",
       "9         0.7         0.7           0           0         0.7         0.7   \n",
       "\n",
       "   Total  \n",
       "7   30.6  \n",
       "8   39.2  \n",
       "9   39.2  \n",
       "\n",
       "[3 rows x 103 columns]"
      ]
     },
     "execution_count": 12,
     "metadata": {},
     "output_type": "execute_result"
    }
   ],
   "source": [
    "front_end_only_df"
   ]
  },
  {
   "cell_type": "markdown",
   "id": "a38b3e3c-ea01-4f39-b000-df18baa5a324",
   "metadata": {},
   "source": [
    "Let's look at the Total column"
   ]
  },
  {
   "cell_type": "code",
   "execution_count": 13,
   "id": "0d57dddc-4464-4f98-a74e-2554e884004d",
   "metadata": {},
   "outputs": [
    {
     "data": {
      "text/html": [
       "<div>\n",
       "<style scoped>\n",
       "    .dataframe tbody tr th:only-of-type {\n",
       "        vertical-align: middle;\n",
       "    }\n",
       "\n",
       "    .dataframe tbody tr th {\n",
       "        vertical-align: top;\n",
       "    }\n",
       "\n",
       "    .dataframe thead th {\n",
       "        text-align: right;\n",
       "    }\n",
       "</style>\n",
       "<table border=\"1\" class=\"dataframe\">\n",
       "  <thead>\n",
       "    <tr style=\"text-align: right;\">\n",
       "      <th></th>\n",
       "      <th>Person</th>\n",
       "      <th>Total</th>\n",
       "    </tr>\n",
       "  </thead>\n",
       "  <tbody>\n",
       "    <tr>\n",
       "      <th>7</th>\n",
       "      <td>Terry Berry</td>\n",
       "      <td>30.6</td>\n",
       "    </tr>\n",
       "    <tr>\n",
       "      <th>8</th>\n",
       "      <td>Hunter Pointer</td>\n",
       "      <td>39.2</td>\n",
       "    </tr>\n",
       "    <tr>\n",
       "      <th>9</th>\n",
       "      <td>Iris in a Crisis</td>\n",
       "      <td>39.2</td>\n",
       "    </tr>\n",
       "  </tbody>\n",
       "</table>\n",
       "</div>"
      ],
      "text/plain": [
       "             Person  Total\n",
       "7       Terry Berry   30.6\n",
       "8    Hunter Pointer   39.2\n",
       "9  Iris in a Crisis   39.2"
      ]
     },
     "execution_count": 13,
     "metadata": {},
     "output_type": "execute_result"
    }
   ],
   "source": [
    "front_end_only_df[['Person', 'Total']]"
   ]
  },
  {
   "cell_type": "markdown",
   "id": "ae2e49f4-0598-47e4-9c13-1d1dfaf903ed",
   "metadata": {},
   "source": [
    "Looks about right. How much DevOps capacity do we have?"
   ]
  },
  {
   "cell_type": "code",
   "execution_count": 14,
   "id": "c3d6f957-c5cf-4553-a110-a33ee7207b11",
   "metadata": {},
   "outputs": [
    {
     "data": {
      "text/plain": [
       "0.0"
      ]
     },
     "execution_count": 14,
     "metadata": {},
     "output_type": "execute_result"
    }
   ],
   "source": [
    "df.loc[df['DevOps'] == 'T']['Total'].sum()"
   ]
  },
  {
   "cell_type": "markdown",
   "id": "97e13671-0ea8-4815-a891-ce50d07a6668",
   "metadata": {},
   "source": [
    "A big fat 0. No one on the teams have any DevOps specific skills."
   ]
  },
  {
   "cell_type": "markdown",
   "id": "f8f5645d-0775-4985-9a65-d28d5fb83531",
   "metadata": {},
   "source": [
    "## Create a schedule\n",
    "\n",
    "Now, let's schedule the epics."
   ]
  },
  {
   "cell_type": "code",
   "execution_count": 15,
   "id": "d8d8e9e9-0270-4a80-92b1-619294093192",
   "metadata": {},
   "outputs": [],
   "source": [
    "scheduler = ap.TeamScheduler(org_capacity_q2,features.get_epics())\n",
    "schedule_results = scheduler.build_schedule()"
   ]
  },
  {
   "cell_type": "code",
   "execution_count": 16,
   "id": "cf43f3d7-5282-4779-a0df-b5f5283c3e0c",
   "metadata": {},
   "outputs": [
    {
     "name": "stdout",
     "output_type": "stream",
     "text": [
      "CSESC-1022 171 EpicType.FRONTEND EpicScheduleStatus.NO_CAPACITY_TO_COMPLETE: starts 2023-10-25 and ends WILL NOT COMPLETE IN TIME with 62.00000000000062 remaining\n",
      "CSESC-1023 50 EpicType.BACKEND EpicScheduleStatus.OK: starts 2023-10-25 and ends 2023-11-17 with 0.0 remaining\n",
      "CSESC-1024 10 EpicType.BACKEND EpicScheduleStatus.OK: starts 2023-11-17 and ends 2023-11-22 with 0.0 remaining\n",
      "CSESC-1025 30 EpicType.DEVOPS EpicScheduleStatus.NO_CAPACITY_TO_START: starts WILL NOT START and ends WILL NOT COMPLETE IN TIME with 30 remaining\n"
     ]
    }
   ],
   "source": [
    "for schedule_result in schedule_results:\n",
    "    print(schedule_result)"
   ]
  },
  {
   "cell_type": "markdown",
   "id": "5944d705-a58e-4946-a3c2-b745cebca4c5",
   "metadata": {},
   "source": [
    "So, let's dig into the results one by one. CSESC-1022 has a size of 171 points. It is a FrontEnd body of work - and we do have FrontEnd engineers on the team who can take on the work. It is top priority and so starts on the first day of the time period. But, the scheduler says it will not complete in time? Why is that? Recall that we only have a potential FrontEnd capacity of 109. The epic is larger that this and won't fit in the time period. It tells us that there will be 62 points remaining at the end of the time period (171 - 109).\n",
    "\n",
    "CSESC-1023 is smaller at 50 points. We have the BackEnd skill sets and the capacity to start and finish it. It is scheduled to finish on November 17th. This enables the team to pick up CSESC-1024 and complete it in time because it is only 10 points. CSESC-1025 is a DevOps epic. But recall that we don't have any DevOps skills on the team. Therefore, it is not schedule to start and will obviously not complete in the time period."
   ]
  },
  {
   "cell_type": "markdown",
   "id": "158d91e0-cebc-4305-b12c-e971b927cc65",
   "metadata": {},
   "source": [
    "Now, let's create a Gantt chart of the schedule - obviously only for the epics that we can start and finish on time. We need to create DataFrame from the ScheduleResults"
   ]
  },
  {
   "cell_type": "code",
   "execution_count": 17,
   "id": "f295d646-c06d-4940-b662-73ab29813df6",
   "metadata": {},
   "outputs": [],
   "source": [
    "epic_series = [schedule_result.epic_key for schedule_result in schedule_results if schedule_result.epic_schedule_status == ap.EpicScheduleStatus.OK]\n",
    "start_dates_series = [date.fromisoformat(schedule_result.start_date) for schedule_result in schedule_results if schedule_result.epic_schedule_status == ap.EpicScheduleStatus.OK]\n",
    "end_dates_series = [date.fromisoformat(schedule_result.end_date) for schedule_result in schedule_results if schedule_result.epic_schedule_status == ap.EpicScheduleStatus.OK]"
   ]
  },
  {
   "cell_type": "code",
   "execution_count": 18,
   "id": "504084a2-b6e7-497c-8f2d-bcc800653627",
   "metadata": {},
   "outputs": [],
   "source": [
    "import pandas as pd\n",
    "import matplotlib.pyplot as plt\n",
    "schedule_df = pd.DataFrame(data={\"Epic\": epic_series, \"Start\": start_dates_series, \"End\": end_dates_series})"
   ]
  },
  {
   "cell_type": "code",
   "execution_count": 19,
   "id": "0e39df30-498e-447d-865f-20886e7582e2",
   "metadata": {},
   "outputs": [],
   "source": [
    "schedule_df[\"Days\"] = schedule_df[\"End\"] - schedule_df[\"Start\"]"
   ]
  },
  {
   "cell_type": "code",
   "execution_count": 20,
   "id": "f09f8686-ba5b-4a7d-9817-668de84d01bd",
   "metadata": {},
   "outputs": [],
   "source": [
    "schedule_df[\"Color\"] = plt.cm.Set1.colors[:len(schedule_df)]"
   ]
  },
  {
   "cell_type": "code",
   "execution_count": 21,
   "id": "9d1a1373-eed3-4709-a1f2-adae677954fe",
   "metadata": {},
   "outputs": [
    {
     "data": {
      "text/html": [
       "<div>\n",
       "<style scoped>\n",
       "    .dataframe tbody tr th:only-of-type {\n",
       "        vertical-align: middle;\n",
       "    }\n",
       "\n",
       "    .dataframe tbody tr th {\n",
       "        vertical-align: top;\n",
       "    }\n",
       "\n",
       "    .dataframe thead th {\n",
       "        text-align: right;\n",
       "    }\n",
       "</style>\n",
       "<table border=\"1\" class=\"dataframe\">\n",
       "  <thead>\n",
       "    <tr style=\"text-align: right;\">\n",
       "      <th></th>\n",
       "      <th>Epic</th>\n",
       "      <th>Start</th>\n",
       "      <th>End</th>\n",
       "      <th>Days</th>\n",
       "      <th>Color</th>\n",
       "    </tr>\n",
       "  </thead>\n",
       "  <tbody>\n",
       "    <tr>\n",
       "      <th>0</th>\n",
       "      <td>CSESC-1023</td>\n",
       "      <td>2023-10-25</td>\n",
       "      <td>2023-11-17</td>\n",
       "      <td>23 days, 0:00:00</td>\n",
       "      <td>(0.8941176470588236, 0.10196078431372549, 0.10...</td>\n",
       "    </tr>\n",
       "    <tr>\n",
       "      <th>1</th>\n",
       "      <td>CSESC-1024</td>\n",
       "      <td>2023-11-17</td>\n",
       "      <td>2023-11-22</td>\n",
       "      <td>5 days, 0:00:00</td>\n",
       "      <td>(0.21568627450980393, 0.49411764705882355, 0.7...</td>\n",
       "    </tr>\n",
       "  </tbody>\n",
       "</table>\n",
       "</div>"
      ],
      "text/plain": [
       "         Epic       Start         End              Days  \\\n",
       "0  CSESC-1023  2023-10-25  2023-11-17  23 days, 0:00:00   \n",
       "1  CSESC-1024  2023-11-17  2023-11-22   5 days, 0:00:00   \n",
       "\n",
       "                                               Color  \n",
       "0  (0.8941176470588236, 0.10196078431372549, 0.10...  \n",
       "1  (0.21568627450980393, 0.49411764705882355, 0.7...  "
      ]
     },
     "execution_count": 21,
     "metadata": {},
     "output_type": "execute_result"
    }
   ],
   "source": [
    "schedule_df"
   ]
  },
  {
   "cell_type": "code",
   "execution_count": 22,
   "id": "19e4935e-77e9-4d28-9595-d6c4ab897e82",
   "metadata": {},
   "outputs": [
    {
     "data": {
      "image/png": "[encoded data removed]",
      "text/plain": [
       "<Figure size 1200x400 with 1 Axes>"
      ]
     },
     "metadata": {},
     "output_type": "display_data"
    }
   ],
   "source": [
    "fig = plt.figure(figsize=(12,4))\n",
    "plt.barh(y=schedule_df['Epic'], width=schedule_df['Days'], left=schedule_df['Start'], color=schedule_df[\"Color\"])\n",
    "plt.title('Schedule', fontsize=15)\n",
    "plt.gca().invert_yaxis()\n",
    "plt.xlabel(\"Date\")\n",
    "plt.ylabel(\"Epic\")\n",
    "plt.show()"
   ]
  }
 ],
 "metadata": {
  "kernelspec": {
   "display_name": "Python 3 (ipykernel)",
   "language": "python",
   "name": "python3"
  },
  "language_info": {
   "codemirror_mode": {
    "name": "ipython",
    "version": 3
   },
   "file_extension": ".py",
   "mimetype": "text/x-python",
   "name": "python",
   "nbconvert_exporter": "python",
   "pygments_lexer": "ipython3",
   "version": "3.10.13"
  }
 },
 "nbformat": 4,
 "nbformat_minor": 5
}
